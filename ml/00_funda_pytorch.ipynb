{
 "cells": [
  {
   "cell_type": "code",
   "execution_count": 1,
   "id": "9c371941-da59-4584-9979-ba9f7da0e92c",
   "metadata": {},
   "outputs": [
    {
     "name": "stdout",
     "output_type": "stream",
     "text": [
      "2.1.2\n"
     ]
    }
   ],
   "source": [
    "import torch\n",
    "print(torch.__version__)"
   ]
  },
  {
   "cell_type": "code",
   "execution_count": 2,
   "id": "0a30c0f8-b101-4bff-9121-69ca772dd4c9",
   "metadata": {},
   "outputs": [],
   "source": [
    "import numpy as np\n",
    "import pandas as pd\n",
    "import matplotlib.pyplot as plt"
   ]
  },
  {
   "cell_type": "code",
   "execution_count": 3,
   "id": "bceac07c-0a7c-4960-8fb5-cccbc8621a0c",
   "metadata": {},
   "outputs": [
    {
     "data": {
      "text/plain": [
       "tensor(7)"
      ]
     },
     "execution_count": 3,
     "metadata": {},
     "output_type": "execute_result"
    }
   ],
   "source": [
    "# create tensor \n",
    "# scalar\n",
    "scalar = torch.tensor(7)\n",
    "scalar"
   ]
  },
  {
   "cell_type": "code",
   "execution_count": 5,
   "id": "e72def0a-05df-40af-a5f6-782d44a6050d",
   "metadata": {},
   "outputs": [
    {
     "data": {
      "text/plain": [
       "0"
      ]
     },
     "execution_count": 5,
     "metadata": {},
     "output_type": "execute_result"
    }
   ],
   "source": [
    "scalar.ndim"
   ]
  },
  {
   "cell_type": "code",
   "execution_count": 6,
   "id": "a2b7a455-5a3d-432c-b2d4-b0c24089269b",
   "metadata": {},
   "outputs": [
    {
     "data": {
      "text/plain": [
       "7"
      ]
     },
     "execution_count": 6,
     "metadata": {},
     "output_type": "execute_result"
    }
   ],
   "source": [
    "scalar.item()"
   ]
  },
  {
   "cell_type": "code",
   "execution_count": 7,
   "id": "fdc963cb-335c-4cb4-ba61-ca7092674e0f",
   "metadata": {},
   "outputs": [
    {
     "data": {
      "text/plain": [
       "tensor([10,  7])"
      ]
     },
     "execution_count": 7,
     "metadata": {},
     "output_type": "execute_result"
    }
   ],
   "source": [
    "# vector\n",
    "vector = torch.tensor([10, 7])\n",
    "vector"
   ]
  },
  {
   "cell_type": "code",
   "execution_count": 8,
   "id": "4de17a72-9a78-422c-886f-8d8dd9550f85",
   "metadata": {},
   "outputs": [
    {
     "data": {
      "text/plain": [
       "1"
      ]
     },
     "execution_count": 8,
     "metadata": {},
     "output_type": "execute_result"
    }
   ],
   "source": [
    "vector.ndim"
   ]
  },
  {
   "cell_type": "code",
   "execution_count": 9,
   "id": "90472f53-f6be-42d5-b078-b503ba7d5bf8",
   "metadata": {},
   "outputs": [
    {
     "data": {
      "text/plain": [
       "torch.Size([2])"
      ]
     },
     "execution_count": 9,
     "metadata": {},
     "output_type": "execute_result"
    }
   ],
   "source": [
    "vector.shape"
   ]
  },
  {
   "cell_type": "code",
   "execution_count": 10,
   "id": "38b2f890-779a-4a7e-9245-b007174d5f2c",
   "metadata": {},
   "outputs": [
    {
     "data": {
      "text/plain": [
       "tensor([[ 7,  8],\n",
       "        [ 9, 10]])"
      ]
     },
     "execution_count": 10,
     "metadata": {},
     "output_type": "execute_result"
    }
   ],
   "source": [
    "# matrix\n",
    "matrix = torch.tensor([[7, 8],\n",
    "                       [9, 10]])\n",
    "matrix"
   ]
  },
  {
   "cell_type": "code",
   "execution_count": 11,
   "id": "6f272d5c-7d5c-4f9f-8f22-af611855e4aa",
   "metadata": {},
   "outputs": [
    {
     "data": {
      "text/plain": [
       "2"
      ]
     },
     "execution_count": 11,
     "metadata": {},
     "output_type": "execute_result"
    }
   ],
   "source": [
    "matrix.ndim"
   ]
  },
  {
   "cell_type": "code",
   "execution_count": 12,
   "id": "db222ce4-5f20-49bd-95de-451684dd18ac",
   "metadata": {},
   "outputs": [
    {
     "data": {
      "text/plain": [
       "torch.Size([2, 2])"
      ]
     },
     "execution_count": 12,
     "metadata": {},
     "output_type": "execute_result"
    }
   ],
   "source": [
    "matrix.shape"
   ]
  },
  {
   "cell_type": "code",
   "execution_count": 16,
   "id": "a4c2b959-7572-4502-b664-3a270bbc112b",
   "metadata": {},
   "outputs": [
    {
     "data": {
      "text/plain": [
       "tensor([[1, 2, 3],\n",
       "        [3, 5, 6],\n",
       "        [6, 8, 9]])"
      ]
     },
     "execution_count": 16,
     "metadata": {},
     "output_type": "execute_result"
    }
   ],
   "source": [
    "# tensor\n",
    "tensor1 = torch.tensor([[1, 2, 3],\n",
    "                        [3, 5, 6],\n",
    "                        [6, 8, 9]])\n",
    "tensor1"
   ]
  },
  {
   "cell_type": "code",
   "execution_count": 17,
   "id": "19a3fb11-a853-46b5-9167-dfa6d1e91a94",
   "metadata": {},
   "outputs": [
    {
     "data": {
      "text/plain": [
       "2"
      ]
     },
     "execution_count": 17,
     "metadata": {},
     "output_type": "execute_result"
    }
   ],
   "source": [
    "tensor1.ndim"
   ]
  },
  {
   "cell_type": "code",
   "execution_count": 18,
   "id": "db7d0e6e-dc9c-4676-9862-f0ede1179632",
   "metadata": {},
   "outputs": [
    {
     "data": {
      "text/plain": [
       "torch.Size([3, 3])"
      ]
     },
     "execution_count": 18,
     "metadata": {},
     "output_type": "execute_result"
    }
   ],
   "source": [
    "tensor1.shape"
   ]
  },
  {
   "cell_type": "code",
   "execution_count": 20,
   "id": "4e511c2e-b131-42e5-9e95-59d478a9db39",
   "metadata": {},
   "outputs": [
    {
     "data": {
      "text/plain": [
       "tensor([[[1, 2, 3],\n",
       "         [3, 5, 6],\n",
       "         [6, 8, 9]]])"
      ]
     },
     "execution_count": 20,
     "metadata": {},
     "output_type": "execute_result"
    }
   ],
   "source": [
    "tensor2 = torch.tensor([[[1, 2, 3],\n",
    "                         [3, 5, 6],\n",
    "                         [6, 8, 9]]])\n",
    "tensor2"
   ]
  },
  {
   "cell_type": "code",
   "execution_count": 21,
   "id": "1ed41f93-fbb8-4cd4-b816-5803631c924a",
   "metadata": {},
   "outputs": [
    {
     "data": {
      "text/plain": [
       "3"
      ]
     },
     "execution_count": 21,
     "metadata": {},
     "output_type": "execute_result"
    }
   ],
   "source": [
    "tensor2.ndim"
   ]
  },
  {
   "cell_type": "code",
   "execution_count": 22,
   "id": "48cbfbec-47e8-4b26-a834-710586c9da20",
   "metadata": {},
   "outputs": [
    {
     "data": {
      "text/plain": [
       "torch.Size([1, 3, 3])"
      ]
     },
     "execution_count": 22,
     "metadata": {},
     "output_type": "execute_result"
    }
   ],
   "source": [
    "tensor2.shape"
   ]
  },
  {
   "cell_type": "code",
   "execution_count": 7,
   "id": "0b6c9b07-d02f-462f-aeae-b7232e49185c",
   "metadata": {},
   "outputs": [
    {
     "data": {
      "text/plain": [
       "(torch.Size([224, 224, 3]), 3)"
      ]
     },
     "execution_count": 7,
     "metadata": {},
     "output_type": "execute_result"
    }
   ],
   "source": [
    "# create a random tensor\n",
    "random_tensor = torch.rand(size=(224, 224, 3))\n",
    "random_tensor.shape, random_tensor.ndim"
   ]
  },
  {
   "cell_type": "code",
   "execution_count": 8,
   "id": "8c4d829d-711f-40d0-9459-c02e2d1b2ffd",
   "metadata": {},
   "outputs": [
    {
     "data": {
      "text/plain": [
       "(tensor([[0., 0., 0., 0.],\n",
       "         [0., 0., 0., 0.],\n",
       "         [0., 0., 0., 0.]]),\n",
       " torch.float32)"
      ]
     },
     "execution_count": 8,
     "metadata": {},
     "output_type": "execute_result"
    }
   ],
   "source": [
    "# create zeros\n",
    "zeros = torch.zeros(size=(3, 4))\n",
    "zeros, zeros.dtype"
   ]
  },
  {
   "cell_type": "code",
   "execution_count": 9,
   "id": "ef703050-ffd4-4a0e-91ce-29f7f086fa09",
   "metadata": {},
   "outputs": [
    {
     "data": {
      "text/plain": [
       "(tensor([[1., 1., 1., 1.],\n",
       "         [1., 1., 1., 1.],\n",
       "         [1., 1., 1., 1.]]),\n",
       " torch.float32)"
      ]
     },
     "execution_count": 9,
     "metadata": {},
     "output_type": "execute_result"
    }
   ],
   "source": [
    "# create ones\n",
    "ones = torch.ones(size=(3, 4))\n",
    "ones, ones.dtype"
   ]
  },
  {
   "cell_type": "code",
   "execution_count": 11,
   "id": "6c3a3632-d0a8-41c8-81bb-0c68dd9052a5",
   "metadata": {},
   "outputs": [
    {
     "data": {
      "text/plain": [
       "tensor([0, 1, 2, 3, 4, 5, 6, 7, 8, 9])"
      ]
     },
     "execution_count": 11,
     "metadata": {},
     "output_type": "execute_result"
    }
   ],
   "source": [
    "# arange\n",
    "zero_to_ten = torch.arange(0, 10, 1)\n",
    "zero_to_ten"
   ]
  },
  {
   "cell_type": "code",
   "execution_count": 14,
   "id": "01cee120-ac10-4264-b6a4-64eec2d60578",
   "metadata": {},
   "outputs": [
    {
     "data": {
      "text/plain": [
       "(tensor([1, 1, 1, 1, 1, 1, 1, 1, 1, 1]),\n",
       " tensor([0, 0, 0, 0, 0, 0, 0, 0, 0, 0]))"
      ]
     },
     "execution_count": 14,
     "metadata": {},
     "output_type": "execute_result"
    }
   ],
   "source": [
    "# create same shape tensor with another\n",
    "ten_ones = torch.ones_like(input=zero_to_ten)\n",
    "ten_zero = torch.zeros_like(input=zero_to_ten)\n",
    "ten_ones, ten_zero"
   ]
  },
  {
   "cell_type": "code",
   "execution_count": 17,
   "id": "f775d798-903a-4494-bf12-f931b5465125",
   "metadata": {},
   "outputs": [
    {
     "data": {
      "text/plain": [
       "(torch.Size([3]), torch.float32, device(type='cpu'))"
      ]
     },
     "execution_count": 17,
     "metadata": {},
     "output_type": "execute_result"
    }
   ],
   "source": [
    "# dtype and device \n",
    "# pytorch like to caclulate with the same dtype and on same device\n",
    "# Default datatype for tensors is float32\n",
    "float_32_tensor = torch.tensor([3.0, 6.0, 9.0],\n",
    "                               dtype=None,\n",
    "                               device=None,\n",
    "                               requires_grad=False) # if true, operations performed on the tensor are recorded\n",
    "float_32_tensor.shape, float_32_tensor.dtype, float_32_tensor.device \n",
    "# these 3 informations are always the things you want to get."
   ]
  },
  {
   "cell_type": "code",
   "execution_count": 16,
   "id": "48559cae-536b-4466-8068-30efbfe74bc7",
   "metadata": {},
   "outputs": [
    {
     "data": {
      "text/plain": [
       "torch.float16"
      ]
     },
     "execution_count": 16,
     "metadata": {},
     "output_type": "execute_result"
    }
   ],
   "source": [
    "# use float16, we have to set the dtype\n",
    "float_16_tensor = torch.tensor([3.0, 6.0, 9.0],\n",
    "                               dtype=torch.float16)\n",
    "float_16_tensor.dtype"
   ]
  },
  {
   "cell_type": "code",
   "execution_count": 28,
   "id": "01f90c1a-37ed-4161-84e5-800e4177947a",
   "metadata": {},
   "outputs": [
    {
     "data": {
      "text/plain": [
       "tensor([11, 12, 13])"
      ]
     },
     "execution_count": 28,
     "metadata": {},
     "output_type": "execute_result"
    }
   ],
   "source": [
    "# manipulating tensor +-x/matrix\n",
    "tensor = torch.tensor([1, 2, 3])\n",
    "# tensor + 10\n",
    "torch.add(tensor, 10)"
   ]
  },
  {
   "cell_type": "code",
   "execution_count": 20,
   "id": "73e880fa-4375-431c-a8d1-eb630721a697",
   "metadata": {},
   "outputs": [
    {
     "data": {
      "text/plain": [
       "tensor([-9, -8, -7])"
      ]
     },
     "execution_count": 20,
     "metadata": {},
     "output_type": "execute_result"
    }
   ],
   "source": [
    "tensor - 10"
   ]
  },
  {
   "cell_type": "code",
   "execution_count": 27,
   "id": "ecdfde3f-045a-44f4-b6c8-82199ed7a757",
   "metadata": {},
   "outputs": [
    {
     "data": {
      "text/plain": [
       "tensor([10, 20, 30])"
      ]
     },
     "execution_count": 27,
     "metadata": {},
     "output_type": "execute_result"
    }
   ],
   "source": [
    "# tensor * 10\n",
    "torch.multiply(tensor, 10)"
   ]
  },
  {
   "cell_type": "code",
   "execution_count": 22,
   "id": "469c3a3b-132e-4750-84db-785e0cf8380c",
   "metadata": {},
   "outputs": [
    {
     "data": {
      "text/plain": [
       "tensor([0.1000, 0.2000, 0.3000])"
      ]
     },
     "execution_count": 22,
     "metadata": {},
     "output_type": "execute_result"
    }
   ],
   "source": [
    "tensor / 10"
   ]
  },
  {
   "cell_type": "code",
   "execution_count": 23,
   "id": "b1bf3862-e4a4-44ef-a620-6d8a69f118e5",
   "metadata": {},
   "outputs": [
    {
     "data": {
      "text/plain": [
       "tensor([1, 2, 3])"
      ]
     },
     "execution_count": 23,
     "metadata": {},
     "output_type": "execute_result"
    }
   ],
   "source": [
    "tensor"
   ]
  },
  {
   "cell_type": "code",
   "execution_count": 29,
   "id": "bf9f384f-ba86-4b92-84e7-758feff6b249",
   "metadata": {},
   "outputs": [
    {
     "data": {
      "text/plain": [
       "tensor([1, 4, 9])"
      ]
     },
     "execution_count": 29,
     "metadata": {},
     "output_type": "execute_result"
    }
   ],
   "source": [
    "torch.mul(tensor, tensor)"
   ]
  },
  {
   "cell_type": "code",
   "execution_count": 30,
   "id": "d5cc6daa-4a1c-4f22-8aa3-1c0e04eb7bb6",
   "metadata": {},
   "outputs": [
    {
     "data": {
      "text/plain": [
       "torch.Size([3])"
      ]
     },
     "execution_count": 30,
     "metadata": {},
     "output_type": "execute_result"
    }
   ],
   "source": [
    "tensor.shape"
   ]
  },
  {
   "cell_type": "code",
   "execution_count": 31,
   "id": "c0add443-248c-4066-96a8-b74a752f55e9",
   "metadata": {},
   "outputs": [
    {
     "data": {
      "text/plain": [
       "tensor(14)"
      ]
     },
     "execution_count": 31,
     "metadata": {},
     "output_type": "execute_result"
    }
   ],
   "source": [
    "torch.matmul(tensor, tensor) # is faster than @"
   ]
  },
  {
   "cell_type": "code",
   "execution_count": 32,
   "id": "29b14339-8f3f-4487-8455-f61f30b31f8e",
   "metadata": {},
   "outputs": [
    {
     "data": {
      "text/plain": [
       "tensor(14)"
      ]
     },
     "execution_count": 32,
     "metadata": {},
     "output_type": "execute_result"
    }
   ],
   "source": [
    "tensor @ tensor"
   ]
  },
  {
   "cell_type": "code",
   "execution_count": 34,
   "id": "3c901aaa-5f14-4716-b4d2-aa092b046635",
   "metadata": {},
   "outputs": [
    {
     "data": {
      "text/plain": [
       "(torch.Size([3, 2]), torch.Size([3, 2]))"
      ]
     },
     "execution_count": 34,
     "metadata": {},
     "output_type": "execute_result"
    }
   ],
   "source": [
    "# Shapes need to be in the right way  \n",
    "tensor_A = torch.tensor([[1, 2],\n",
    "                         [3, 4],\n",
    "                         [5, 6]], dtype=torch.float32)\n",
    "\n",
    "tensor_B = torch.tensor([[7, 10],\n",
    "                         [8, 11], \n",
    "                         [9, 12]], dtype=torch.float32)\n",
    "\n",
    "tensor_A.shape, tensor_B.shape\n",
    "# torch.matmul(tensor_A, tensor_B) # (this will error)"
   ]
  },
  {
   "cell_type": "code",
   "execution_count": 40,
   "id": "c20486a0-0166-4f50-a096-b6cceaa845a9",
   "metadata": {},
   "outputs": [],
   "source": [
    "tensor = torch.matmul(tensor_A, tensor_B.T)"
   ]
  },
  {
   "cell_type": "code",
   "execution_count": 41,
   "id": "1e51a6ca-c22a-4681-8f85-0e3d64d7ae4d",
   "metadata": {},
   "outputs": [
    {
     "data": {
      "text/plain": [
       "torch.Size([3, 3])"
      ]
     },
     "execution_count": 41,
     "metadata": {},
     "output_type": "execute_result"
    }
   ],
   "source": [
    "tensor.shape"
   ]
  },
  {
   "cell_type": "code",
   "execution_count": 42,
   "id": "407d0b1d-50c7-47d3-af5b-4f61a5ed8573",
   "metadata": {},
   "outputs": [
    {
     "data": {
      "text/plain": [
       "tensor([[ 5694.,  6348.,  7002.],\n",
       "        [12920., 14404., 15888.],\n",
       "        [20146., 22460., 24774.]])"
      ]
     },
     "execution_count": 42,
     "metadata": {},
     "output_type": "execute_result"
    }
   ],
   "source": [
    "torch.mm(tensor, tensor) # mm is short for matmul"
   ]
  },
  {
   "cell_type": "code",
   "execution_count": 43,
   "id": "0576a946-effb-4a54-9105-75444e9a9db2",
   "metadata": {},
   "outputs": [
    {
     "data": {
      "text/plain": [
       "tensor([[ 27.,  30.,  33.],\n",
       "        [ 61.,  68.,  75.],\n",
       "        [ 95., 106., 117.]])"
      ]
     },
     "execution_count": 43,
     "metadata": {},
     "output_type": "execute_result"
    }
   ],
   "source": [
    "tensor"
   ]
  },
  {
   "cell_type": "code",
   "execution_count": 47,
   "id": "e025947b-9e66-4a0a-a5eb-9d1406eca2a7",
   "metadata": {},
   "outputs": [
    {
     "name": "stdout",
     "output_type": "stream",
     "text": [
      "Input shape: torch.Size([3, 2])\n",
      "\n",
      "Output:\n",
      "tensor([[ 2.3290,  1.2658,  0.6529,  0.5820, -0.0732],\n",
      "        [ 4.5841,  2.2336,  0.6284,  0.7241,  0.1360],\n",
      "        [ 6.8391,  3.2014,  0.6039,  0.8661,  0.3452]],\n",
      "       grad_fn=<AddmmBackward0>)\n",
      "\n",
      "Output shape: torch.Size([3, 5])\n"
     ]
    }
   ],
   "source": [
    "# Since the linear layer starts with a random weights matrix, let's make it reproducible (more on this later)\n",
    "torch.manual_seed(42)\n",
    "# This uses matrix multiplication\n",
    "linear = torch.nn.Linear(in_features=2, # in_features = matches inner dimension of input \n",
    "                         out_features=5) # out_features = describes outer value \n",
    "x = tensor_A\n",
    "output = linear(x)\n",
    "print(f\"Input shape: {x.shape}\\n\")\n",
    "print(f\"Output:\\n{output}\\n\\nOutput shape: {output.shape}\")"
   ]
  },
  {
   "cell_type": "markdown",
   "id": "26cb14a4-1c6a-4261-b409-e60621f1276a",
   "metadata": {},
   "source": [
    "**Remember, matrix multiplication is all you need. Dimension is everywhere.**"
   ]
  },
  {
   "cell_type": "code",
   "execution_count": 50,
   "id": "66f6c5f5-570f-4530-b035-f992bed334b8",
   "metadata": {},
   "outputs": [
    {
     "data": {
      "text/plain": [
       "tensor([ 0, 10, 20, 30, 40, 50, 60, 70, 80, 90])"
      ]
     },
     "execution_count": 50,
     "metadata": {},
     "output_type": "execute_result"
    }
   ],
   "source": [
    "# find min, max, mean, sum\n",
    "x = torch.arange(0, 100, 10)\n",
    "x "
   ]
  },
  {
   "cell_type": "code",
   "execution_count": 51,
   "id": "7ce3e9bf-471b-4420-b8e7-d678d70af429",
   "metadata": {},
   "outputs": [
    {
     "data": {
      "text/plain": [
       "tensor(0)"
      ]
     },
     "execution_count": 51,
     "metadata": {},
     "output_type": "execute_result"
    }
   ],
   "source": [
    "x.min()"
   ]
  },
  {
   "cell_type": "code",
   "execution_count": 52,
   "id": "9684d215-324b-456f-a70e-a41f1a616544",
   "metadata": {},
   "outputs": [
    {
     "data": {
      "text/plain": [
       "tensor(90)"
      ]
     },
     "execution_count": 52,
     "metadata": {},
     "output_type": "execute_result"
    }
   ],
   "source": [
    "x.max()"
   ]
  },
  {
   "cell_type": "code",
   "execution_count": 53,
   "id": "e32e4ff4-cfef-4830-965e-47928acf14dd",
   "metadata": {},
   "outputs": [
    {
     "data": {
      "text/plain": [
       "tensor(450)"
      ]
     },
     "execution_count": 53,
     "metadata": {},
     "output_type": "execute_result"
    }
   ],
   "source": [
    "x.sum()"
   ]
  },
  {
   "cell_type": "code",
   "execution_count": 56,
   "id": "2eebe8a7-8866-46b9-a9f3-0ef1c0cff943",
   "metadata": {},
   "outputs": [
    {
     "data": {
      "text/plain": [
       "tensor(45.)"
      ]
     },
     "execution_count": 56,
     "metadata": {},
     "output_type": "execute_result"
    }
   ],
   "source": [
    "x.type(torch.float32).mean()  # must set the type to float32"
   ]
  },
  {
   "cell_type": "code",
   "execution_count": 57,
   "id": "095ab9f3-6b29-49bb-ae56-c0bb06a2be69",
   "metadata": {},
   "outputs": [
    {
     "data": {
      "text/plain": [
       "(tensor(90), tensor(0), tensor(45.), tensor(450))"
      ]
     },
     "execution_count": 57,
     "metadata": {},
     "output_type": "execute_result"
    }
   ],
   "source": [
    "# work as the same \n",
    "torch.max(x), torch.min(x), torch.mean(x.type(torch.float32)), torch.sum(x)"
   ]
  },
  {
   "cell_type": "code",
   "execution_count": 58,
   "id": "9e8a5c5f-db4b-4392-87c8-a9a36f58b61d",
   "metadata": {},
   "outputs": [
    {
     "data": {
      "text/plain": [
       "(tensor(0), tensor(9))"
      ]
     },
     "execution_count": 58,
     "metadata": {},
     "output_type": "execute_result"
    }
   ],
   "source": [
    "# argmin, argmax\n",
    "x.argmin(), x.argmax()"
   ]
  },
  {
   "cell_type": "code",
   "execution_count": 59,
   "id": "9bb60e64-eed2-4a1f-84b4-7e536a0be6b2",
   "metadata": {},
   "outputs": [
    {
     "data": {
      "text/plain": [
       "torch.int64"
      ]
     },
     "execution_count": 59,
     "metadata": {},
     "output_type": "execute_result"
    }
   ],
   "source": [
    "# change date type\n",
    "tensor = torch.arange(10, 100, 5)\n",
    "tensor.dtype"
   ]
  },
  {
   "cell_type": "code",
   "execution_count": 62,
   "id": "2bec426f-8304-4f30-9b84-d3b26b00fc0f",
   "metadata": {},
   "outputs": [
    {
     "data": {
      "text/plain": [
       "tensor([10., 15., 20., 25., 30., 35., 40., 45., 50., 55., 60., 65., 70., 75.,\n",
       "        80., 85., 90., 95.])"
      ]
     },
     "execution_count": 62,
     "metadata": {},
     "output_type": "execute_result"
    }
   ],
   "source": [
    "tensor_float32 = tensor.type(torch.float32)\n",
    "tensor_float32"
   ]
  },
  {
   "cell_type": "code",
   "execution_count": 63,
   "id": "58a8d109-3cb4-4501-843b-01edb5b52cb8",
   "metadata": {},
   "outputs": [
    {
     "data": {
      "text/plain": [
       "tensor([10., 15., 20., 25., 30., 35., 40., 45., 50., 55., 60., 65., 70., 75.,\n",
       "        80., 85., 90., 95.], dtype=torch.float16)"
      ]
     },
     "execution_count": 63,
     "metadata": {},
     "output_type": "execute_result"
    }
   ],
   "source": [
    "tensor_float16 = tensor.type(torch.float16)\n",
    "tensor_float16"
   ]
  },
  {
   "cell_type": "code",
   "execution_count": 64,
   "id": "41459e3c-3def-4263-805a-cab8b18f6c2a",
   "metadata": {},
   "outputs": [
    {
     "data": {
      "text/plain": [
       "tensor([10, 15, 20, 25, 30, 35, 40, 45, 50, 55, 60, 65, 70, 75, 80, 85, 90, 95],\n",
       "       dtype=torch.int8)"
      ]
     },
     "execution_count": 64,
     "metadata": {},
     "output_type": "execute_result"
    }
   ],
   "source": [
    "tensor_int8 = tensor_float16.type(torch.int8)\n",
    "tensor_int8"
   ]
  },
  {
   "cell_type": "markdown",
   "id": "9fae9f7c-bf7e-4f4f-956f-b28ed0a7c8aa",
   "metadata": {},
   "source": [
    "**关于数据精度：关注数字越大，计算精度越高，数字越小，计算精度越低，但是速度越快，手机上就会用int8来处理**"
   ]
  },
  {
   "cell_type": "code",
   "execution_count": 66,
   "id": "746eb3c3-d0d0-401d-920f-78cbfa2e825a",
   "metadata": {},
   "outputs": [
    {
     "data": {
      "text/plain": [
       "(tensor([1., 2., 3., 4., 5., 6., 7.]), torch.Size([7]))"
      ]
     },
     "execution_count": 66,
     "metadata": {},
     "output_type": "execute_result"
    }
   ],
   "source": [
    "# play with the dimensions of tensor\n",
    "# reshape, stack, squeeze, unsqueeze\n",
    "# create a tensor\n",
    "tensor = torch.arange(1., 8.)\n",
    "tensor, tensor.shape"
   ]
  },
  {
   "cell_type": "code",
   "execution_count": 68,
   "id": "dd494744-f111-42bc-b917-5981e03a002e",
   "metadata": {},
   "outputs": [
    {
     "data": {
      "text/plain": [
       "(tensor([[1., 2., 3., 4., 5., 6., 7.]]), torch.Size([1, 7]))"
      ]
     },
     "execution_count": 68,
     "metadata": {},
     "output_type": "execute_result"
    }
   ],
   "source": [
    "tensor_reshaped = tensor.reshape([1, 7])\n",
    "tensor_reshaped, tensor_reshaped.shape"
   ]
  },
  {
   "cell_type": "code",
   "execution_count": 72,
   "id": "75b3cd2c-b7c5-4ee8-862e-e846d64f1b97",
   "metadata": {},
   "outputs": [
    {
     "data": {
      "text/plain": [
       "tensor([[[1., 2., 3., 4., 5., 6., 7.]]])"
      ]
     },
     "execution_count": 72,
     "metadata": {},
     "output_type": "execute_result"
    }
   ],
   "source": [
    "tensor_view = tensor.view(1, 1, 7)\n",
    "tensor_view"
   ]
  },
  {
   "cell_type": "code",
   "execution_count": 73,
   "id": "e0bf1f0f-0985-4dd9-a8e7-d53f777671bb",
   "metadata": {},
   "outputs": [
    {
     "data": {
      "text/plain": [
       "tensor([100.,   2.,   3.,   4.,   5.,   6.,   7.])"
      ]
     },
     "execution_count": 73,
     "metadata": {},
     "output_type": "execute_result"
    }
   ],
   "source": [
    "# change the view will change the orignal tensor too\n",
    "tensor_view[0][0][0] = 100\n",
    "tensor"
   ]
  },
  {
   "cell_type": "code",
   "execution_count": 79,
   "id": "4a42513f-faed-4f95-9d25-95570d4164e7",
   "metadata": {},
   "outputs": [
    {
     "data": {
      "text/plain": [
       "tensor([[100., 100., 100.],\n",
       "        [  2.,   2.,   2.],\n",
       "        [  3.,   3.,   3.],\n",
       "        [  4.,   4.,   4.],\n",
       "        [  5.,   5.,   5.],\n",
       "        [  6.,   6.,   6.],\n",
       "        [  7.,   7.,   7.]])"
      ]
     },
     "execution_count": 79,
     "metadata": {},
     "output_type": "execute_result"
    }
   ],
   "source": [
    "# stack tensor on top of each other\n",
    "stacked_tensor = torch.stack([tensor, tensor, tensor], dim=1)\n",
    "stacked_tensor"
   ]
  },
  {
   "cell_type": "code",
   "execution_count": 87,
   "id": "421e9d87-a300-4f45-a0d4-a81f31ae5286",
   "metadata": {},
   "outputs": [
    {
     "data": {
      "text/plain": [
       "(tensor([[100.,   2.,   3.,   4.,   5.,   6.,   7.],\n",
       "         [100.,   2.,   3.,   4.,   5.,   6.,   7.],\n",
       "         [100.,   2.,   3.,   4.,   5.,   6.,   7.]]),\n",
       " torch.Size([3, 7]))"
      ]
     },
     "execution_count": 87,
     "metadata": {},
     "output_type": "execute_result"
    }
   ],
   "source": [
    "# stack tensor on top of each other\n",
    "stacked_tensor = torch.stack([tensor, tensor, tensor], dim=0)\n",
    "stacked_tensor, stacked_tensor.shape"
   ]
  },
  {
   "cell_type": "code",
   "execution_count": 83,
   "id": "2b186574-9006-44d4-b08f-d4f781f0f83d",
   "metadata": {},
   "outputs": [
    {
     "data": {
      "text/plain": [
       "1"
      ]
     },
     "execution_count": 83,
     "metadata": {},
     "output_type": "execute_result"
    }
   ],
   "source": [
    "tensor.ndim # tensor的堆叠方式是在那个方向上扩展，复制"
   ]
  },
  {
   "cell_type": "code",
   "execution_count": 94,
   "id": "b79a6b03-3f27-4fa8-8e8a-66f5f4b7efc1",
   "metadata": {},
   "outputs": [
    {
     "name": "stdout",
     "output_type": "stream",
     "text": [
      "torch.Size([1, 5])\n",
      "torch.Size([5])\n"
     ]
    },
    {
     "data": {
      "text/plain": [
       "tensor([0.2695, 0.3588, 0.1994, 0.5472, 0.0062])"
      ]
     },
     "execution_count": 94,
     "metadata": {},
     "output_type": "execute_result"
    }
   ],
   "source": [
    "# squeeze\n",
    "tensor = torch.rand(1, 5)\n",
    "print(tensor.shape)\n",
    "tensor_squeezed = tensor.squeeze()\n",
    "print(tensor_squeezed.shape)\n",
    "tensor_squeezed"
   ]
  },
  {
   "cell_type": "code",
   "execution_count": 96,
   "id": "31430a54-1ded-41ea-a1b4-cc7ca9937d5e",
   "metadata": {},
   "outputs": [
    {
     "data": {
      "text/plain": [
       "tensor([[0.2695, 0.3588, 0.1994, 0.5472, 0.0062]])"
      ]
     },
     "execution_count": 96,
     "metadata": {},
     "output_type": "execute_result"
    }
   ],
   "source": [
    "tensor = tensor_squeezed.unsqueeze(dim=0)\n",
    "tensor"
   ]
  },
  {
   "cell_type": "code",
   "execution_count": 97,
   "id": "241f6584-15ce-4a55-9ede-d910b1f23afc",
   "metadata": {},
   "outputs": [
    {
     "data": {
      "text/plain": [
       "tensor([[0.2695],\n",
       "        [0.3588],\n",
       "        [0.1994],\n",
       "        [0.5472],\n",
       "        [0.0062]])"
      ]
     },
     "execution_count": 97,
     "metadata": {},
     "output_type": "execute_result"
    }
   ],
   "source": [
    "tensor = tensor_squeezed.unsqueeze(dim=1)\n",
    "tensor"
   ]
  },
  {
   "cell_type": "code",
   "execution_count": 103,
   "id": "f957d280-afc2-44ba-8b93-56459c4a78e5",
   "metadata": {},
   "outputs": [
    {
     "data": {
      "text/plain": [
       "torch.Size([1, 5])"
      ]
     },
     "execution_count": 103,
     "metadata": {},
     "output_type": "execute_result"
    }
   ],
   "source": [
    "tensor.shape # use permute to change the dim"
   ]
  },
  {
   "cell_type": "code",
   "execution_count": 104,
   "id": "b14c419a-038d-4fe1-9895-f0269cf5f7cc",
   "metadata": {},
   "outputs": [],
   "source": [
    "tensor = tensor.permute(1, 0) "
   ]
  },
  {
   "cell_type": "code",
   "execution_count": 105,
   "id": "7233662a-3095-43aa-824a-3e9c3bdbde26",
   "metadata": {},
   "outputs": [
    {
     "data": {
      "text/plain": [
       "torch.Size([5, 1])"
      ]
     },
     "execution_count": 105,
     "metadata": {},
     "output_type": "execute_result"
    }
   ],
   "source": [
    "tensor.shape"
   ]
  },
  {
   "cell_type": "code",
   "execution_count": 106,
   "id": "386fdaf9-d46e-44b3-8548-3ccf5a82e38c",
   "metadata": {},
   "outputs": [],
   "source": [
    "# index and slice in tensor is similar as numpy"
   ]
  },
  {
   "cell_type": "code",
   "execution_count": 110,
   "id": "591a438c-4614-4b24-9fdb-3c7acaf55094",
   "metadata": {},
   "outputs": [
    {
     "name": "stdout",
     "output_type": "stream",
     "text": [
      "[1. 2. 3. 4. 5. 6. 7.]\n",
      "tensor([1., 2., 3., 4., 5., 6., 7.], dtype=torch.float64)\n"
     ]
    }
   ],
   "source": [
    "# numpy --> tensor\n",
    "import numpy as np\n",
    "array = np.arange(1.0, 8.0)\n",
    "print(array)\n",
    "tensor = torch.from_numpy(array)\n",
    "print(tensor) # default to be convert to float64 the same as numpy"
   ]
  },
  {
   "cell_type": "code",
   "execution_count": 111,
   "id": "338bdd1a-6599-4c5c-a7d3-0392a78ccc3c",
   "metadata": {},
   "outputs": [
    {
     "data": {
      "text/plain": [
       "array([1., 2., 3., 4., 5., 6., 7.])"
      ]
     },
     "execution_count": 111,
     "metadata": {},
     "output_type": "execute_result"
    }
   ],
   "source": [
    "# tensor to numpy\n",
    "new_array = tensor.numpy()\n",
    "new_array"
   ]
  },
  {
   "cell_type": "code",
   "execution_count": 116,
   "id": "14ad4c10-614e-4d5d-8296-001c22ea6e85",
   "metadata": {},
   "outputs": [
    {
     "data": {
      "text/plain": [
       "tensor([[True, True, True, True],\n",
       "        [True, True, True, True],\n",
       "        [True, True, True, True]])"
      ]
     },
     "execution_count": 116,
     "metadata": {},
     "output_type": "execute_result"
    }
   ],
   "source": [
    "# random seed\n",
    "torch.manual_seed(42)\n",
    "random_tensor_1 = torch.rand(3, 4)\n",
    "torch.manual_seed(42)\n",
    "random_tensor_2 = torch.rand(3, 4)\n",
    "random_tensor_1 == random_tensor_2\n",
    "# false before set seed, the seed should be set twice for the two tensor"
   ]
  },
  {
   "cell_type": "code",
   "execution_count": 118,
   "id": "7dbbd186-2c68-4d1e-bded-072166fa3aed",
   "metadata": {},
   "outputs": [],
   "source": [
    "# !nvidia-smi"
   ]
  },
  {
   "cell_type": "code",
   "execution_count": 119,
   "id": "96e4af0f-d74b-460f-ad77-429bd3530ca5",
   "metadata": {},
   "outputs": [
    {
     "data": {
      "text/plain": [
       "False"
      ]
     },
     "execution_count": 119,
     "metadata": {},
     "output_type": "execute_result"
    }
   ],
   "source": [
    "# Check for GPU\n",
    "import torch\n",
    "torch.cuda.is_available()"
   ]
  },
  {
   "cell_type": "code",
   "execution_count": 120,
   "id": "9a17f04f-e806-4ba0-91dc-db6be1610d81",
   "metadata": {},
   "outputs": [
    {
     "data": {
      "text/plain": [
       "'cpu'"
      ]
     },
     "execution_count": 120,
     "metadata": {},
     "output_type": "execute_result"
    }
   ],
   "source": [
    "# Set device type\n",
    "device = \"cuda\" if torch.cuda.is_available() else \"cpu\"\n",
    "device"
   ]
  },
  {
   "cell_type": "code",
   "execution_count": 121,
   "id": "e482d192-2a42-4048-8f42-186b64a19735",
   "metadata": {},
   "outputs": [
    {
     "data": {
      "text/plain": [
       "0"
      ]
     },
     "execution_count": 121,
     "metadata": {},
     "output_type": "execute_result"
    }
   ],
   "source": [
    "# Count number of devices\n",
    "torch.cuda.device_count()"
   ]
  },
  {
   "cell_type": "code",
   "execution_count": 122,
   "id": "38e03b5a-cb7b-47d0-a2e7-2bb2e179c1df",
   "metadata": {},
   "outputs": [
    {
     "name": "stdout",
     "output_type": "stream",
     "text": [
      "tensor([1, 2, 3]) cpu\n"
     ]
    },
    {
     "data": {
      "text/plain": [
       "tensor([1, 2, 3])"
      ]
     },
     "execution_count": 122,
     "metadata": {},
     "output_type": "execute_result"
    }
   ],
   "source": [
    "# Create tensor (default on CPU)\n",
    "tensor = torch.tensor([1, 2, 3])\n",
    "\n",
    "# Tensor not on GPU\n",
    "print(tensor, tensor.device)\n",
    "\n",
    "# Move tensor to GPU (if available)\n",
    "tensor_on_gpu = tensor.to(device)\n",
    "tensor_on_gpu"
   ]
  },
  {
   "cell_type": "code",
   "execution_count": 123,
   "id": "2a8af0cb-5e6a-4960-a1be-96a434599dad",
   "metadata": {},
   "outputs": [
    {
     "data": {
      "text/plain": [
       "array([1, 2, 3])"
      ]
     },
     "execution_count": 123,
     "metadata": {},
     "output_type": "execute_result"
    }
   ],
   "source": [
    "# Instead, copy the tensor back to cpu\n",
    "tensor_back_on_cpu = tensor_on_gpu.cpu().numpy()\n",
    "tensor_back_on_cpu"
   ]
  },
  {
   "cell_type": "code",
   "execution_count": null,
   "id": "9b1a3390-6708-4602-b4c6-a5547d2c00f9",
   "metadata": {},
   "outputs": [],
   "source": []
  }
 ],
 "metadata": {
  "kernelspec": {
   "display_name": "Python 3 (ipykernel)",
   "language": "python",
   "name": "python3"
  },
  "language_info": {
   "codemirror_mode": {
    "name": "ipython",
    "version": 3
   },
   "file_extension": ".py",
   "mimetype": "text/x-python",
   "name": "python",
   "nbconvert_exporter": "python",
   "pygments_lexer": "ipython3",
   "version": "3.11.5"
  }
 },
 "nbformat": 4,
 "nbformat_minor": 5
}
